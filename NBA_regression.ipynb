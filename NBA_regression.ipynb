{
  "nbformat": 4,
  "nbformat_minor": 0,
  "metadata": {
    "colab": {
      "provenance": [],
      "authorship_tag": "ABX9TyPc2Uyr2c7F+Ve/DgbfRTpb",
      "include_colab_link": true
    },
    "kernelspec": {
      "name": "python3",
      "display_name": "Python 3"
    },
    "language_info": {
      "name": "python"
    }
  },
  "cells": [
    {
      "cell_type": "markdown",
      "metadata": {
        "id": "view-in-github",
        "colab_type": "text"
      },
      "source": [
        "<a href=\"https://colab.research.google.com/github/selenkelat/regression-analyses-on-NBA-data/blob/main/NBA_regression.ipynb\" target=\"_parent\"><img src=\"https://colab.research.google.com/assets/colab-badge.svg\" alt=\"Open In Colab\"/></a>"
      ]
    },
    {
      "cell_type": "code",
      "execution_count": null,
      "metadata": {
        "id": "gE1ll7e8YgcH"
      },
      "outputs": [],
      "source": [
        "import pandas as pd\n",
        "csv_path = \"/content/NBA.csv\"\n",
        "dat = pd.read_csv(csv_path)\n",
        "dat"
      ]
    },
    {
      "cell_type": "code",
      "source": [
        "#removing non-numeric variables from data\n",
        "dat=dat.drop(\"Position\",axis=1)\n",
        "dat=dat.drop(\"Team\",axis=1)\n",
        "dat=dat.drop(\"Player\",axis=1)\n",
        "dt=dat.copy()"
      ],
      "metadata": {
        "id": "IeLuPMV8eHuM"
      },
      "execution_count": null,
      "outputs": []
    },
    {
      "cell_type": "code",
      "source": [
        "dt.info()"
      ],
      "metadata": {
        "id": "9IetSq2DeIcs"
      },
      "execution_count": null,
      "outputs": []
    },
    {
      "cell_type": "code",
      "source": [
        "dt.describe().T"
      ],
      "metadata": {
        "id": "iYx08j81k-qW"
      },
      "execution_count": null,
      "outputs": []
    },
    {
      "cell_type": "code",
      "source": [
        "dt.isnull().values.any() #no missing value"
      ],
      "metadata": {
        "id": "ttzEaVddlFl_"
      },
      "execution_count": null,
      "outputs": []
    },
    {
      "cell_type": "code",
      "source": [
        "dt.corr() #correlation values ​​between variables"
      ],
      "metadata": {
        "id": "NBNu6yYqlLNZ"
      },
      "execution_count": null,
      "outputs": []
    },
    {
      "cell_type": "code",
      "source": [
        "#pair plot of the variables with regression lines fitted to the scatter plots\n",
        "import seaborn as sbn\n",
        "sbn.pairplot(dt, kind=\"reg\");"
      ],
      "metadata": {
        "id": "nvhkV1M9lkbq"
      },
      "execution_count": null,
      "outputs": []
    },
    {
      "cell_type": "code",
      "source": [
        "#USG is indepentend variable and PER is depentend variable\n",
        "# visualize the relationship between the variables \"USG\" and \"PER\" (Player Efficiency Rating)\n",
        "import matplotlib.pyplot as plt\n",
        "import seaborn as sbn\n",
        "jp=sbn.jointplot(x=\"USG\", y=\"PER\", data=dt, kind=\"reg\")\n",
        "jp.savefig(\"jointplot.png\")\n",
        "plt.show()\n"
      ],
      "metadata": {
        "id": "tiSF1G5wmlfm"
      },
      "execution_count": null,
      "outputs": []
    },
    {
      "cell_type": "markdown",
      "source": [
        "### LINEAR REGRESSION"
      ],
      "metadata": {
        "id": "NmXshBW3nHFd"
      }
    },
    {
      "cell_type": "code",
      "source": [
        "# OLS REGRESSION\n",
        "x=dt[[\"USG\"]]\n",
        "y=dt[[\"PER\"]]\n",
        "import statsmodels.api as sm\n",
        "x=sm.add_constant(x)\n",
        "x.head()\n",
        "lin_mod=sm.OLS(y,x)\n",
        "mod=lin_mod.fit()\n",
        "mod.summary() #R2 0.439\n",
        "#confidence intervals are significant"
      ],
      "metadata": {
        "id": "wCtfFw0InP-F"
      },
      "execution_count": null,
      "outputs": []
    },
    {
      "cell_type": "code",
      "source": [
        "from sklearn.linear_model import LinearRegression\n",
        "rm=LinearRegression()\n",
        "mod=rm.fit(x,y)\n",
        "mod.intercept_ #beta0"
      ],
      "metadata": {
        "id": "pIsi36ZxndTO"
      },
      "execution_count": null,
      "outputs": []
    },
    {
      "cell_type": "code",
      "source": [
        "mod.coef_ #beta1"
      ],
      "metadata": {
        "id": "rVcPjC81oaR5"
      },
      "execution_count": null,
      "outputs": []
    },
    {
      "cell_type": "code",
      "source": [
        "mod.score(x, y) # R^2"
      ],
      "metadata": {
        "id": "S6Anhzkqoa_8"
      },
      "execution_count": null,
      "outputs": []
    },
    {
      "cell_type": "code",
      "source": [
        "\n",
        "import seaborn as sbn\n",
        "import matplotlib.pyplot as plt\n",
        "# Scatter plot with regression line\n",
        "pl = sbn.regplot(x=dt[\"USG\"], y=dt[\"PER\"], ci=None, scatter_kws={\"color\": \"r\", \"s\": 9})\n",
        "pl.set_title(\"Regression Model\")\n",
        "plt.show()\n"
      ],
      "metadata": {
        "id": "ADNBNf7xojI3"
      },
      "execution_count": null,
      "outputs": []
    },
    {
      "cell_type": "markdown",
      "source": [
        "model metrics"
      ],
      "metadata": {
        "id": "ntfhfBPPpM6C"
      }
    },
    {
      "cell_type": "code",
      "source": [
        "from sklearn.metrics import mean_squared_error, r2_score\n",
        "mse=mean_squared_error(y, mod.predict(x))\n",
        "mse"
      ],
      "metadata": {
        "id": "JxmiHMiFpV0Q"
      },
      "execution_count": null,
      "outputs": []
    },
    {
      "cell_type": "code",
      "source": [
        "import numpy as np\n",
        "np.sqrt(mse)\n",
        "#this means that, on average, the model's predictions deviate from the actual values ​​by 3,109 units."
      ],
      "metadata": {
        "id": "3IHHMvTJpZRJ"
      },
      "execution_count": null,
      "outputs": []
    },
    {
      "cell_type": "markdown",
      "source": [
        "### MULTIPLE LINEAR REGRESSION"
      ],
      "metadata": {
        "id": "IsBb4DR0p8Dx"
      }
    },
    {
      "cell_type": "code",
      "source": [
        "from sklearn.model_selection import train_test_split\n",
        "x_train, x_test, y_train, y_test=train_test_split(x,y,test_size=0.30, random_state=42)"
      ],
      "metadata": {
        "id": "K27Z7MHVp_d-"
      },
      "execution_count": null,
      "outputs": []
    },
    {
      "cell_type": "code",
      "source": [
        "lin_mod=sm.OLS(y_train, x_train)\n",
        "mod=lin_mod.fit()\n",
        "mod.summary()"
      ],
      "metadata": {
        "id": "zbNrkiuvqF8k"
      },
      "execution_count": null,
      "outputs": []
    },
    {
      "cell_type": "code",
      "source": [
        "lin_mod=LinearRegression()\n",
        "mod=lin_mod.fit(x_train,y_train)\n",
        "mod.intercept_ #beta0: 3.73379212\n",
        "mod.coef_ #beta1: 0.55511165"
      ],
      "metadata": {
        "id": "5dguR1asqLjv"
      },
      "execution_count": null,
      "outputs": []
    },
    {
      "cell_type": "code",
      "source": [
        "preds=mod.predict(x_test) #predictive values ​​of y related to the test set"
      ],
      "metadata": {
        "id": "gSRuw7g-qWEy"
      },
      "execution_count": null,
      "outputs": []
    },
    {
      "cell_type": "code",
      "source": [
        "#graph of actual and predicted values\n",
        "plt.scatter(y_test, preds)\n",
        "plt.show()"
      ],
      "metadata": {
        "id": "BH3NFtsJqhwM"
      },
      "execution_count": null,
      "outputs": []
    },
    {
      "cell_type": "code",
      "source": [
        "np.sqrt(mean_squared_error(y_test, preds)) #rmse of actual and predicted values ​​in the test set"
      ],
      "metadata": {
        "id": "IqpgSi-Pqr8p"
      },
      "execution_count": null,
      "outputs": []
    },
    {
      "cell_type": "markdown",
      "source": [
        "### Principal component regression (PCR)"
      ],
      "metadata": {
        "id": "7Qmg8ylsq1fI"
      }
    },
    {
      "cell_type": "code",
      "source": [
        "from sklearn.preprocessing import scale\n",
        "from sklearn.decomposition import PCA\n",
        "from sklearn import model_selection\n",
        "from sklearn.model_selection import RepeatedKFold"
      ],
      "metadata": {
        "id": "TjkgIR70q89c"
      },
      "execution_count": null,
      "outputs": []
    },
    {
      "cell_type": "code",
      "source": [
        "#independent variables need to be scaled\n",
        "pca=PCA()\n",
        "x_scaled=pca.fit_transform(scale(x_train))"
      ],
      "metadata": {
        "id": "IWngHaIirDpd"
      },
      "execution_count": null,
      "outputs": []
    },
    {
      "cell_type": "code",
      "source": [
        "#cross validation\n",
        "cv=RepeatedKFold(n_splits=10, n_repeats=3, random_state=1)"
      ],
      "metadata": {
        "id": "rKhrSoferPcA"
      },
      "execution_count": null,
      "outputs": []
    },
    {
      "cell_type": "code",
      "source": [
        "mod=LinearRegression()\n",
        "pcr_mod=mod.fit(x_scaled, y_train)"
      ],
      "metadata": {
        "id": "X1gQiktGrURz"
      },
      "execution_count": null,
      "outputs": []
    },
    {
      "cell_type": "code",
      "source": [
        "pcr_mod.intercept_ #beta0"
      ],
      "metadata": {
        "id": "81FAg-QcrYFj"
      },
      "execution_count": null,
      "outputs": []
    },
    {
      "cell_type": "code",
      "source": [
        "pcr_mod.coef_ # beta1"
      ],
      "metadata": {
        "id": "xpn9k4QqrbS1"
      },
      "execution_count": null,
      "outputs": []
    },
    {
      "cell_type": "code",
      "source": [
        "#y prediction values\n",
        "fits=pcr_mod.predict(x_scaled)"
      ],
      "metadata": {
        "id": "Z2gBBavFreBZ"
      },
      "execution_count": null,
      "outputs": []
    },
    {
      "cell_type": "code",
      "source": [
        "plt.scatter(y_train, fits)\n",
        "plt.show() #positive linear relationship"
      ],
      "metadata": {
        "id": "vybEGk8trsLn"
      },
      "execution_count": null,
      "outputs": []
    },
    {
      "cell_type": "code",
      "source": [
        "np.sqrt(mean_squared_error(y_train,fits)) #rmse"
      ],
      "metadata": {
        "id": "elWKTFL8r3J5"
      },
      "execution_count": null,
      "outputs": []
    },
    {
      "cell_type": "code",
      "source": [
        "r2_score(y_train,fits)"
      ],
      "metadata": {
        "id": "BPjxo7kQr6Yp"
      },
      "execution_count": null,
      "outputs": []
    },
    {
      "cell_type": "code",
      "source": [
        "#for test set and prediction values\n",
        "pca2=PCA()\n",
        "x_scaled_test=pca2.fit_transform(scale(x_test))\n",
        "preds=pcr_mod.predict(x_scaled_test)"
      ],
      "metadata": {
        "id": "4W6NMwyVr95E"
      },
      "execution_count": null,
      "outputs": []
    },
    {
      "cell_type": "code",
      "source": [
        "np.sqrt(mean_squared_error(y_test,preds))"
      ],
      "metadata": {
        "id": "Ov7xEAlksIdj"
      },
      "execution_count": null,
      "outputs": []
    },
    {
      "cell_type": "code",
      "source": [
        "r2_score(y_test,preds)"
      ],
      "metadata": {
        "id": "KTFG690GsMbs"
      },
      "execution_count": null,
      "outputs": []
    },
    {
      "cell_type": "markdown",
      "source": [
        "This model is better than the model we established with the training set and fit values."
      ],
      "metadata": {
        "id": "0FCGn5LRsP_-"
      }
    },
    {
      "cell_type": "markdown",
      "source": [
        "### RIDGE REGRESSION"
      ],
      "metadata": {
        "id": "4bUw4HetsYQ7"
      }
    },
    {
      "cell_type": "code",
      "source": [
        "from sklearn.linear_model import Ridge\n",
        "from sklearn.model_selection import GridSearchCV\n",
        "ridge_mod=Ridge(alpha=0.1).fit(x_train,y_train)"
      ],
      "metadata": {
        "id": "yQ20FtInskHM"
      },
      "execution_count": null,
      "outputs": []
    },
    {
      "cell_type": "code",
      "source": [
        "#metrics between the training set and prediction values.\n",
        "fits=ridge_mod.predict(x_train)\n",
        "np.sqrt(mean_squared_error(y_train,fits)) # rmse"
      ],
      "metadata": {
        "id": "VtZV_xwuso07"
      },
      "execution_count": null,
      "outputs": []
    },
    {
      "cell_type": "code",
      "source": [
        "r2_score(y_train,fits)"
      ],
      "metadata": {
        "id": "3KMeIZAms4uj"
      },
      "execution_count": null,
      "outputs": []
    },
    {
      "cell_type": "code",
      "source": [
        "#for test set and prediction values.\n",
        "preds=ridge_mod.predict(x_test)\n",
        "np.sqrt(mean_squared_error(y_test,preds)) #rmse (lower than the training set, so it is better)"
      ],
      "metadata": {
        "id": "xs-c-mMAs7sS"
      },
      "execution_count": null,
      "outputs": []
    },
    {
      "cell_type": "code",
      "source": [
        "r2_score(y_test,preds)\n",
        "# the model established with the test set is better, the R^2 value is greater."
      ],
      "metadata": {
        "id": "i8VIy3EttIbH"
      },
      "execution_count": null,
      "outputs": []
    },
    {
      "cell_type": "code",
      "source": [
        "# try to find the best lambda value\n",
        "# Lambda values ​​to try:\n",
        "alphas = [0.1, 1, 10, 100, 1000]\n",
        "# define the GridSearchCV object\n",
        "grid_search = GridSearchCV(ridge_mod, {'alpha': alphas}, cv=5)\n",
        "# apply GridSearchCV on the training data\n",
        "grid_search.fit(x_train, y_train)"
      ],
      "metadata": {
        "id": "aMaVdz8AtTh-"
      },
      "execution_count": null,
      "outputs": []
    },
    {
      "cell_type": "code",
      "source": [
        "print(\"the best lambda (alpha) value:\", grid_search.best_params_['alpha'])"
      ],
      "metadata": {
        "id": "lP2nAWvjttQk"
      },
      "execution_count": null,
      "outputs": []
    },
    {
      "cell_type": "code",
      "source": [
        "#regression model was created according to the best alpha value determined.\n",
        "ridge_best=Ridge(alpha=100)\n",
        "ridge_best.fit(x_train,y_train)\n",
        "fits=ridge_best.predict(x_train)\n",
        "np.sqrt(mean_squared_error(y_train,fits))"
      ],
      "metadata": {
        "id": "5ofWKpVKt24-"
      },
      "execution_count": null,
      "outputs": []
    },
    {
      "cell_type": "code",
      "source": [
        "r2_score(y_train,fits)"
      ],
      "metadata": {
        "id": "sbOUolFkuBia"
      },
      "execution_count": null,
      "outputs": []
    },
    {
      "cell_type": "markdown",
      "source": [
        "### LASSO REGRESSION"
      ],
      "metadata": {
        "id": "bN_gHfKnuFX7"
      }
    },
    {
      "cell_type": "code",
      "source": [
        "from sklearn.linear_model import Lasso\n",
        "lasso_mod=Lasso(alpha=0.1).fit(x_train,y_train)"
      ],
      "metadata": {
        "id": "6oynKDHhuHgY"
      },
      "execution_count": null,
      "outputs": []
    },
    {
      "cell_type": "code",
      "source": [
        "lasso_mod.coef_ #beta1 coefficient is significant"
      ],
      "metadata": {
        "id": "1kKbtPZ2uK-c"
      },
      "execution_count": null,
      "outputs": []
    },
    {
      "cell_type": "code",
      "source": [
        "#rmse and R^2 for the training set\n",
        "fits=lasso_mod.predict(x_train)\n",
        "np.sqrt(mean_squared_error(y_train,fits))"
      ],
      "metadata": {
        "id": "adG0A2IsuTWJ"
      },
      "execution_count": null,
      "outputs": []
    },
    {
      "cell_type": "code",
      "source": [
        "r2_score(y_train,fits)"
      ],
      "metadata": {
        "id": "xacuVpq6ubIi"
      },
      "execution_count": null,
      "outputs": []
    },
    {
      "cell_type": "code",
      "source": [
        "#rmse and R^2 for test set\n",
        "preds=lasso_mod.predict(x_test)\n",
        "np.sqrt(mean_squared_error(y_test,preds))"
      ],
      "metadata": {
        "id": "-J3pK8_EugQH"
      },
      "execution_count": null,
      "outputs": []
    },
    {
      "cell_type": "code",
      "source": [
        "r2_score(y_test,preds)\n",
        "#In Lasso regression, the model we built with the test set is better\n",
        "#obtained results very similar to those obtained in the Ridge regression model"
      ],
      "metadata": {
        "id": "y2nlgVXvuqBc"
      },
      "execution_count": null,
      "outputs": []
    },
    {
      "cell_type": "code",
      "source": [
        "#find the optimum alpha value\n",
        "from sklearn.linear_model import LassoCV\n",
        "model=LassoCV(cv=5,random_state=0,max_iter=10000)\n",
        "model.fit(x_train,y_train)\n",
        "LassoCV(cv=5,max_iter=10000,random_state=0)\n",
        "model.alpha_"
      ],
      "metadata": {
        "id": "xUWZoOhivGTw"
      },
      "execution_count": null,
      "outputs": []
    },
    {
      "cell_type": "code",
      "source": [
        "#build a regression model on the training set according to the best alpha value determined\n",
        "lasso_best=Lasso(alpha=model.alpha_)\n",
        "lasso_best.fit(x_train,y_train)\n",
        "fits=lasso_best.predict(x_train)"
      ],
      "metadata": {
        "id": "2Y_Eb9bwvLaa"
      },
      "execution_count": null,
      "outputs": []
    },
    {
      "cell_type": "code",
      "source": [
        "np.sqrt(mean_squared_error(y_train,fits))"
      ],
      "metadata": {
        "id": "kAr8MZBNvUVs"
      },
      "execution_count": null,
      "outputs": []
    },
    {
      "cell_type": "code",
      "source": [
        "r2_score(y_train,fits)"
      ],
      "metadata": {
        "id": "Of31nsp-vXus"
      },
      "execution_count": null,
      "outputs": []
    },
    {
      "cell_type": "markdown",
      "source": [
        "### KNN (K-Nearest Neighbors)"
      ],
      "metadata": {
        "id": "lVn2F7nuviP6"
      }
    },
    {
      "cell_type": "code",
      "source": [
        "import numpy as np\n",
        "import pandas as pd\n",
        "import seaborn as sbn\n",
        "from sklearn.model_selection import train_test_split\n",
        "from sklearn.metrics import mean_squared_error, r2_score\n",
        "import matplotlib.pyplot as mp\n",
        "from sklearn.neighbors import KNeighborsRegressor"
      ],
      "metadata": {
        "id": "ONDsDvCvvj8l"
      },
      "execution_count": null,
      "outputs": []
    },
    {
      "cell_type": "code",
      "source": [
        "x_train, x_test, y_train, y_test=train_test_split(x, y, test_size=0.30, random_state=15)"
      ],
      "metadata": {
        "id": "_lszRWy3vn9T"
      },
      "execution_count": null,
      "outputs": []
    },
    {
      "cell_type": "code",
      "source": [
        "#how many K's the model works with\n",
        "KNNmodel=KNeighborsRegressor().fit(x_train, y_train)\n",
        "KNNmodel.n_neighbors"
      ],
      "metadata": {
        "id": "2qjxn1oyvzYr"
      },
      "execution_count": null,
      "outputs": []
    },
    {
      "cell_type": "code",
      "source": [
        "y_hat_knn5=KNNmodel.predict(x_train) #Predictions of the dependent variable y"
      ],
      "metadata": {
        "id": "wdLwmUWLv8ER"
      },
      "execution_count": null,
      "outputs": []
    },
    {
      "cell_type": "code",
      "source": [
        "mean_squared_error(y_train, y_hat_knn5) #mse in train set"
      ],
      "metadata": {
        "id": "r40CNRPPwG30"
      },
      "execution_count": null,
      "outputs": []
    },
    {
      "cell_type": "code",
      "source": [
        "r2_score(y_train, y_hat_knn5)"
      ],
      "metadata": {
        "id": "2IO2EOqowQ5p"
      },
      "execution_count": null,
      "outputs": []
    },
    {
      "cell_type": "code",
      "source": [
        "#What is the k value that will minimize the error? write the loop\n",
        "mse = []\n",
        "r2 = []\n",
        "\n",
        "for k in range(20):\n",
        "    k = k + 1\n",
        "    KNN_model = KNeighborsRegressor(n_neighbors=k).fit(x_train, y_train)\n",
        "    y_hat_k = KNN_model.predict(x_test)\n",
        "    mse.append(mean_squared_error(y_test, y_hat_k))\n",
        "    r2.append(r2_score(y_test, y_hat_k))"
      ],
      "metadata": {
        "id": "okZntHO9wey8"
      },
      "execution_count": null,
      "outputs": []
    },
    {
      "cell_type": "code",
      "source": [
        "mse_df=pd.DataFrame(mse)\n",
        "plt.show(mse_df.plot())\n",
        "#When k is 10, mse takes its lowest value"
      ],
      "metadata": {
        "id": "WY6wpfb6w8CD"
      },
      "execution_count": null,
      "outputs": []
    },
    {
      "cell_type": "code",
      "source": [
        "#find the best parameter\n",
        "from sklearn.model_selection import GridSearchCV\n",
        "KNN_arg=KNeighborsRegressor()\n",
        "k_params={\"n_neighbors\":[2,3,4,5,6,7,8,9,10,11,12,13,14]}\n",
        "KNN_model=GridSearchCV(KNN_arg, k_params, cv=5)\n",
        "KNN_model.fit(x_train, y_train)\n",
        "KNN_model.best_params_"
      ],
      "metadata": {
        "id": "tyaY-GFOxObB"
      },
      "execution_count": null,
      "outputs": []
    },
    {
      "cell_type": "markdown",
      "source": [
        "### SUPPORT VECTOR REGRESSION"
      ],
      "metadata": {
        "id": "PH-G6fwnxeuK"
      }
    },
    {
      "cell_type": "markdown",
      "source": [
        "linear:"
      ],
      "metadata": {
        "id": "VvMcdDpNxmLp"
      }
    },
    {
      "cell_type": "code",
      "source": [
        "from sklearn.svm import SVR\n",
        "SVR_model=SVR(kernel=\"linear\").fit(x_train, y_train)\n",
        "#for train set\n",
        "y_hat_svr_l=SVR_model.predict(x_train)"
      ],
      "metadata": {
        "id": "IPA_mO0gxoks"
      },
      "execution_count": null,
      "outputs": []
    },
    {
      "cell_type": "code",
      "source": [
        "mean_squared_error(y_train, y_hat_svr_l)"
      ],
      "metadata": {
        "id": "y3a659rMxxgO"
      },
      "execution_count": null,
      "outputs": []
    },
    {
      "cell_type": "code",
      "source": [
        "r2_score(y_train, y_hat_svr_l)"
      ],
      "metadata": {
        "id": "M57zndTlx1y9"
      },
      "execution_count": null,
      "outputs": []
    },
    {
      "cell_type": "code",
      "source": [
        "#for test set\n",
        "predicted_y_svr_l=SVR_model.predict(x_test)\n",
        "mean_squared_error(y_test, predicted_y_svr_l)"
      ],
      "metadata": {
        "id": "at4GOKYyx9QZ"
      },
      "execution_count": null,
      "outputs": []
    },
    {
      "cell_type": "code",
      "source": [
        "r2_score(y_test, predicted_y_svr_l)\n",
        "#The model built with the test set is better"
      ],
      "metadata": {
        "id": "z7ZKEzd3yJcY"
      },
      "execution_count": null,
      "outputs": []
    },
    {
      "cell_type": "markdown",
      "source": [
        "nonlinear:"
      ],
      "metadata": {
        "id": "dUc44jAbyTJm"
      }
    },
    {
      "cell_type": "code",
      "source": [
        "SVR_model_nl=SVR(kernel=\"rbf\").fit(x_train, y_train)\n",
        "y_hat_svr_nl=SVR_model.predict(x_train)"
      ],
      "metadata": {
        "id": "eIgs5mvIyUV4"
      },
      "execution_count": null,
      "outputs": []
    },
    {
      "cell_type": "code",
      "source": [
        "mean_squared_error(y_train, y_hat_svr_nl)"
      ],
      "metadata": {
        "id": "7igwcjf6yfGj"
      },
      "execution_count": null,
      "outputs": []
    },
    {
      "cell_type": "code",
      "source": [
        "r2_score(y_train, y_hat_svr_nl)"
      ],
      "metadata": {
        "id": "3f1QvfBwyj5s"
      },
      "execution_count": null,
      "outputs": []
    },
    {
      "cell_type": "code",
      "source": [
        "#for test set\n",
        "predicted_y_svr_nl=SVR_model_nl.predict(x_test)"
      ],
      "metadata": {
        "id": "wul9sLJFytUA"
      },
      "execution_count": null,
      "outputs": []
    },
    {
      "cell_type": "code",
      "source": [
        "mean_squared_error(y_test, predicted_y_svr_nl)"
      ],
      "metadata": {
        "id": "Y24AVv8vywW9"
      },
      "execution_count": null,
      "outputs": []
    },
    {
      "cell_type": "code",
      "source": [
        "r2_score(y_test, predicted_y_svr_nl)"
      ],
      "metadata": {
        "id": "vnXro9MLy0n8"
      },
      "execution_count": null,
      "outputs": []
    },
    {
      "cell_type": "markdown",
      "source": [
        "GRID SEARCH"
      ],
      "metadata": {
        "id": "5aOhmMZFy6tf"
      }
    },
    {
      "cell_type": "code",
      "source": [
        "params_svr={\"C\":np.arange(0.1, 2, 0.4)}\n",
        "#linear\n",
        "gs_SVR_model_l=GridSearchCV(SVR_model, params_svr, cv=10).fit(x_train, y_train)\n",
        "#nonlinear\n",
        "gs_SVR_model_nl=GridSearchCV(SVR_model_nl, params_svr, cv=10).fit(x_train, y_train)"
      ],
      "metadata": {
        "id": "vG0R1zPEy-a8"
      },
      "execution_count": null,
      "outputs": []
    },
    {
      "cell_type": "code",
      "source": [
        "gs_SVR_model_l.best_params_ #best param for linear model"
      ],
      "metadata": {
        "id": "zIJtFFIQzRed"
      },
      "execution_count": null,
      "outputs": []
    },
    {
      "cell_type": "code",
      "source": [
        "gs_SVR_model_nl.best_params_ #best param for nonlinear model"
      ],
      "metadata": {
        "id": "XT6mdBPUzbQh"
      },
      "execution_count": null,
      "outputs": []
    },
    {
      "cell_type": "code",
      "source": [
        "#en iyi parametrelerle model kuralim\n",
        "bp=pd.Series(gs_SVR_model_l.best_params_)[0]\n",
        "best_l_svr_model=SVR(kernel=\"linear\", C=bp).fit(x_train, y_train)\n",
        "best_nl_svr_model=SVR(kernel=\"rbf\", C=bp).fit(x_train, y_train)\n",
        "y_hat_l_best=best_l_svr_model.predict(x_test)\n",
        "y_hat_nl_best=best_nl_svr_model.predict(x_test)"
      ],
      "metadata": {
        "id": "qIpJYu7_zhgA"
      },
      "execution_count": null,
      "outputs": []
    },
    {
      "cell_type": "code",
      "source": [
        "mean_squared_error(y_test, y_hat_l_best) #mse for linear model"
      ],
      "metadata": {
        "id": "wY13-scxz2W5"
      },
      "execution_count": null,
      "outputs": []
    },
    {
      "cell_type": "code",
      "source": [
        "r2_score(y_test, y_hat_l_best) #R^2 for linear model"
      ],
      "metadata": {
        "id": "KVw6twFEz8f0"
      },
      "execution_count": null,
      "outputs": []
    },
    {
      "cell_type": "code",
      "source": [
        "mean_squared_error(y_test, y_hat_nl_best) #mse for nonlinear model"
      ],
      "metadata": {
        "id": "OQuXQLhV0Chp"
      },
      "execution_count": null,
      "outputs": []
    },
    {
      "cell_type": "code",
      "source": [
        "r2_score(y_test, y_hat_nl_best) #R^2 for nonlinear model"
      ],
      "metadata": {
        "id": "kWRDsTSV0MYO"
      },
      "execution_count": null,
      "outputs": []
    },
    {
      "cell_type": "markdown",
      "source": [
        "### Artificial Neural Network (ANN)"
      ],
      "metadata": {
        "id": "VDpzewXv0eQi"
      }
    },
    {
      "cell_type": "code",
      "source": [
        "from sklearn.preprocessing import StandardScaler\n",
        "from sklearn.neural_network import MLPRegressor\n",
        "#scale the data using StandardScaler\n",
        "scl=StandardScaler()\n",
        "scl.fit(x_train)\n",
        "x_train_scl=scl.transform(x_train)\n",
        "x_test_scl=scl.transform(x_test)\n",
        "ann_model=MLPRegressor().fit(x_train_scl, y_train)\n",
        "ann_model.n_layers_"
      ],
      "metadata": {
        "id": "G-rJdoK-0f3u"
      },
      "execution_count": null,
      "outputs": []
    },
    {
      "cell_type": "code",
      "source": [
        "ann_model.hidden_layer_sizes"
      ],
      "metadata": {
        "id": "tyNB-oxb008h"
      },
      "execution_count": null,
      "outputs": []
    },
    {
      "cell_type": "code",
      "source": [
        "yhat_ann0=ann_model.predict(x_train_scl) #predicted values for the training data"
      ],
      "metadata": {
        "id": "1phPeSib0-5_"
      },
      "execution_count": null,
      "outputs": []
    },
    {
      "cell_type": "code",
      "source": [
        "mean_squared_error(y_train, yhat_ann0)"
      ],
      "metadata": {
        "id": "7aDiiYND1UqI"
      },
      "execution_count": null,
      "outputs": []
    },
    {
      "cell_type": "code",
      "source": [
        "r2_score(y_train, yhat_ann0)"
      ],
      "metadata": {
        "id": "XuNCyWxf1Zmv"
      },
      "execution_count": null,
      "outputs": []
    },
    {
      "cell_type": "code",
      "source": [
        "#for test set\n",
        "y_predict_ann0=ann_model.predict(x_test_scl)\n",
        "mean_squared_error(y_test, y_predict_ann0)"
      ],
      "metadata": {
        "id": "zT7WGKiY1eSh"
      },
      "execution_count": null,
      "outputs": []
    },
    {
      "cell_type": "code",
      "source": [
        "r2_score(y_test, y_predict_ann0)"
      ],
      "metadata": {
        "id": "RVSRMDpC1inN"
      },
      "execution_count": null,
      "outputs": []
    },
    {
      "cell_type": "code",
      "source": [
        "#find the best parameters\n",
        "params_ann = {\"alpha\": [0.1, 0.01, 0.02, 0.005],\n",
        "\"hidden_layer_sizes\": [(20, 20), (100, 50, 150), (300, 200, 100)],\n",
        "\"activation\": [\"relu\", \"logistic\"]}\n",
        "gs_ann_model = GridSearchCV(ann_model, params_ann, cv=5)\n",
        "gs_ann_model.fit(x_train_scl, y_train)\n",
        "gs_ann_model.best_params_"
      ],
      "metadata": {
        "id": "7er_h_aP1liC"
      },
      "execution_count": null,
      "outputs": []
    },
    {
      "cell_type": "code",
      "source": [
        "best_ann=MLPRegressor(alpha=0.01, hidden_layer_sizes=(300,200,100), activation=\"relu\")\n",
        "model_best=best_ann.fit(x_train, y_train)\n",
        "best_hat=model_best.predict(x_train_scl)"
      ],
      "metadata": {
        "id": "x1_mriIC2ud9"
      },
      "execution_count": null,
      "outputs": []
    },
    {
      "cell_type": "code",
      "source": [
        "#mse for train set\n",
        "mean_squared_error(y_train,best_hat)"
      ],
      "metadata": {
        "id": "27OnIaHT25_W"
      },
      "execution_count": null,
      "outputs": []
    },
    {
      "cell_type": "code",
      "source": [
        "#R^2 for train set\n",
        "r2_score(y_train, best_hat)"
      ],
      "metadata": {
        "id": "ElrtXY473CI4"
      },
      "execution_count": null,
      "outputs": []
    },
    {
      "cell_type": "code",
      "source": [
        "#for test set\n",
        "best_hat_test=model_best.predict(x_test_scl)\n",
        "mean_squared_error(y_test,best_hat_test)"
      ],
      "metadata": {
        "id": "Ylsxj7LB3SrG"
      },
      "execution_count": null,
      "outputs": []
    },
    {
      "cell_type": "code",
      "source": [
        "r2_score(y_test, best_hat_test)"
      ],
      "metadata": {
        "id": "iH8wrTIw3X8u"
      },
      "execution_count": null,
      "outputs": []
    },
    {
      "cell_type": "markdown",
      "source": [
        "### CART (Classification & Regression Tree)"
      ],
      "metadata": {
        "id": "TV6Ub9E73iJj"
      }
    },
    {
      "cell_type": "code",
      "source": [
        "import numpy as np\n",
        "import pandas as pd\n",
        "import seaborn as sbn\n",
        "from sklearn.model_selection import train_test_split\n",
        "from sklearn.metrics import mean_absolute_error, r2_score\n",
        "import matplotlib.pyplot as mp\n",
        "from sklearn.model_selection import GridSearchCV"
      ],
      "metadata": {
        "id": "ACtdx3PP3jY7"
      },
      "execution_count": null,
      "outputs": []
    },
    {
      "cell_type": "code",
      "source": [
        "x_train, x_test, y_train, y_test=train_test_split(x, y, test_size=0.30, random_state=15)\n",
        "from sklearn.tree import DecisionTreeRegressor\n",
        "cart_model=DecisionTreeRegressor().fit(x_train, y_train)\n",
        "fitted_cart=cart_model.predict(x_train)"
      ],
      "metadata": {
        "id": "qdqjf_hO3mlc"
      },
      "execution_count": null,
      "outputs": []
    },
    {
      "cell_type": "code",
      "source": [
        "#for train set\n",
        "mean_squared_error(y_train, fitted_cart)"
      ],
      "metadata": {
        "id": "uSZqMy-c5L5I"
      },
      "execution_count": null,
      "outputs": []
    },
    {
      "cell_type": "code",
      "source": [
        "r2_score(y_train, fitted_cart)"
      ],
      "metadata": {
        "id": "a1b37O3t5bt3"
      },
      "execution_count": null,
      "outputs": []
    },
    {
      "cell_type": "code",
      "source": [
        "#for test set\n",
        "preds_cart=cart_model.predict(x_test)\n",
        "mean_squared_error(y_test, preds_cart)"
      ],
      "metadata": {
        "id": "ObkPLN4o5PZ7"
      },
      "execution_count": null,
      "outputs": []
    },
    {
      "cell_type": "code",
      "source": [
        "r2_score(y_test, preds_cart)"
      ],
      "metadata": {
        "id": "cR5J1s7Q5TiH"
      },
      "execution_count": null,
      "outputs": []
    },
    {
      "cell_type": "code",
      "source": [
        "#find the best parameters\n",
        "cart_params = {\"min_samples_split\": range(2, 100),\n",
        "\"max_leaf_nodes\": range(2, 10)}\n",
        "grid_cart_model = GridSearchCV(cart_model, cart_params, cv=10)\n",
        "grid_cart_model.fit(x_train, y_train)\n",
        "grid_cart_model.best_params_"
      ],
      "metadata": {
        "id": "aIhPJQ_35iOt"
      },
      "execution_count": null,
      "outputs": []
    },
    {
      "cell_type": "code",
      "source": [
        "#new model with the best params\n",
        "best_cart_model=DecisionTreeRegressor(max_leaf_nodes=8, min_samples_split=6).fit(x_train, y_train)\n",
        "preds_best_cart_model=best_cart_model.predict(x_test)\n",
        "mean_squared_error(y_test, preds_best_cart_model)"
      ],
      "metadata": {
        "id": "3wrOVJbv5uss"
      },
      "execution_count": null,
      "outputs": []
    },
    {
      "cell_type": "code",
      "source": [
        "r2_score(y_test, preds_best_cart_model)"
      ],
      "metadata": {
        "id": "qS5F97Le59st"
      },
      "execution_count": null,
      "outputs": []
    },
    {
      "cell_type": "markdown",
      "source": [
        "### BAGGING (BOOTSTRAP AGGREGATION)"
      ],
      "metadata": {
        "id": "HEjJL9Gg6G66"
      }
    },
    {
      "cell_type": "code",
      "source": [
        "from sklearn.ensemble import BaggingRegressor\n",
        "bagging_model=BaggingRegressor(bootstrap_features=(True)).fit(x_train, y_train)\n",
        "fits_bagging=bagging_model.predict(x_train)"
      ],
      "metadata": {
        "id": "ico9tDXn6Iln"
      },
      "execution_count": null,
      "outputs": []
    },
    {
      "cell_type": "code",
      "source": [
        "#mse for train set\n",
        "mean_squared_error(y_train, fits_bagging)"
      ],
      "metadata": {
        "id": "gaONlbXP6UF8"
      },
      "execution_count": null,
      "outputs": []
    },
    {
      "cell_type": "code",
      "source": [
        "#R^2 for train set\n",
        "r2_score(y_train, fits_bagging)"
      ],
      "metadata": {
        "id": "DYzEF_Z96aNB"
      },
      "execution_count": null,
      "outputs": []
    },
    {
      "cell_type": "code",
      "source": [
        "#for test set\n",
        "preds_bagging=bagging_model.predict(x_test)\n",
        "mean_squared_error(y_test, preds_bagging)"
      ],
      "metadata": {
        "id": "9qYrEZwP6f7i"
      },
      "execution_count": null,
      "outputs": []
    },
    {
      "cell_type": "code",
      "source": [
        "r2_score(y_test, preds_bagging)"
      ],
      "metadata": {
        "id": "-8sMVMfD6jyl"
      },
      "execution_count": null,
      "outputs": []
    },
    {
      "cell_type": "code",
      "source": [
        "#GRIDSEARCH\n",
        "bagging_params={\"n_estimators\":range(2,40)}\n",
        "grid_bagging_model=GridSearchCV(bagging_model, bagging_params, cv=10)\n",
        "grid_bagging_model.fit(x_train, y_train)"
      ],
      "metadata": {
        "id": "3F5_GC3M6mKR"
      },
      "execution_count": null,
      "outputs": []
    },
    {
      "cell_type": "code",
      "source": [
        "grid_bagging_model.best_params_"
      ],
      "metadata": {
        "id": "N3EaPnhd62v9"
      },
      "execution_count": null,
      "outputs": []
    },
    {
      "cell_type": "code",
      "source": [
        "best_bagging_model=BaggingRegressor(n_estimators=25).fit(x_train, y_train)"
      ],
      "metadata": {
        "id": "nvNMJOL667Jv"
      },
      "execution_count": null,
      "outputs": []
    },
    {
      "cell_type": "code",
      "source": [
        "#for test set\n",
        "preds_bagging_model=best_bagging_model.predict(x_test)\n",
        "mean_squared_error(y_test, preds_bagging_model)"
      ],
      "metadata": {
        "id": "8Em3-mCQ7DJm"
      },
      "execution_count": null,
      "outputs": []
    },
    {
      "cell_type": "code",
      "source": [
        "r2_score(y_test, preds_bagging_model)"
      ],
      "metadata": {
        "id": "MTIPOMpM7JLf"
      },
      "execution_count": null,
      "outputs": []
    },
    {
      "cell_type": "code",
      "source": [
        "#for train set\n",
        "preds_bagging_model=best_bagging_model.predict(x_train)\n",
        "mean_squared_error(y_train, preds_bagging_model)"
      ],
      "metadata": {
        "id": "tDdAhYf57L1c"
      },
      "execution_count": null,
      "outputs": []
    },
    {
      "cell_type": "code",
      "source": [
        "r2_score(y_train, preds_bagging_model)"
      ],
      "metadata": {
        "id": "4CjfJEBT7Sra"
      },
      "execution_count": null,
      "outputs": []
    },
    {
      "cell_type": "markdown",
      "source": [
        "### RANDOM FOREST"
      ],
      "metadata": {
        "id": "a4rdiwDn7cvx"
      }
    },
    {
      "cell_type": "code",
      "source": [
        "from sklearn.ensemble import RandomForestRegressor\n",
        "rf_model=RandomForestRegressor().fit(x_train, y_train)"
      ],
      "metadata": {
        "id": "wexD3-f57enE"
      },
      "execution_count": null,
      "outputs": []
    },
    {
      "cell_type": "code",
      "source": [
        "#model with train set\n",
        "fits_rf_model=rf_model.predict(x_train)\n",
        "mean_squared_error(y_train, fits_rf_model)"
      ],
      "metadata": {
        "id": "edXD7n3Y7l5C"
      },
      "execution_count": null,
      "outputs": []
    },
    {
      "cell_type": "code",
      "source": [
        "r2_score(y_train, fits_rf_model)"
      ],
      "metadata": {
        "id": "mYux8F6o7uFh"
      },
      "execution_count": null,
      "outputs": []
    },
    {
      "cell_type": "code",
      "source": [
        "#for test set\n",
        "preds_rf_model=rf_model.predict(x_test)\n",
        "mean_squared_error(y_test, preds_rf_model)"
      ],
      "metadata": {
        "id": "A2Roz0t872GS"
      },
      "execution_count": null,
      "outputs": []
    },
    {
      "cell_type": "code",
      "source": [
        "r2_score(y_test, preds_rf_model)"
      ],
      "metadata": {
        "id": "rw5SQONH75Rf"
      },
      "execution_count": null,
      "outputs": []
    },
    {
      "cell_type": "markdown",
      "source": [
        "gridsearch"
      ],
      "metadata": {
        "id": "olzhht987_qo"
      }
    },
    {
      "cell_type": "code",
      "source": [
        "\n",
        "rf_params={\"max_depth\":range(1,15), \"max_features\":[2,3,5,10,15], \"n_estimators\":[100,250,500,1000,2000]}\n",
        "grid_rf_model=GridSearchCV(rf_model, rf_params, cv=10, n_jobs=-1)\n",
        "grid_rf_model.fit(x_train, y_train)"
      ],
      "metadata": {
        "id": "AP4GS7uD8BnS"
      },
      "execution_count": null,
      "outputs": []
    },
    {
      "cell_type": "code",
      "source": [
        "grid_rf_model.best_params_"
      ],
      "metadata": {
        "id": "mi4g9-Yl8wS8"
      },
      "execution_count": null,
      "outputs": []
    },
    {
      "cell_type": "code",
      "source": [
        "best_rf_model=RandomForestRegressor(max_depth=4,max_features=5,n_estimators=250).fit(x_egitim, y_egitim)\n",
        "best_preds_rf_model=rf_model.predict(x_test)\n",
        "mean_squared_error(y_test, best_preds_rf_model)\n",
        "r2_score(y_test, best_preds_rf_model)"
      ],
      "metadata": {
        "id": "Q2ka2A7_8zrw"
      },
      "execution_count": null,
      "outputs": []
    },
    {
      "cell_type": "markdown",
      "source": [
        "### GRADIENT BOOSTING REGRESSION"
      ],
      "metadata": {
        "id": "z6vxHVyC8-AT"
      }
    },
    {
      "cell_type": "code",
      "source": [
        "from sklearn.ensemble import GradientBoostingRegressor\n",
        "gb_model=GradientBoostingRegressor().fit(x_train,y_train)"
      ],
      "metadata": {
        "id": "fFBBMZTO9CaS"
      },
      "execution_count": null,
      "outputs": []
    },
    {
      "cell_type": "code",
      "source": [
        "fits_gb=gb_model.predict(x_train)\n",
        "mean_squared_error(y_train, fits_gb)"
      ],
      "metadata": {
        "id": "wE8jh30X9M4-"
      },
      "execution_count": null,
      "outputs": []
    },
    {
      "cell_type": "code",
      "source": [
        "r2_score(y_train, fits_gb)"
      ],
      "metadata": {
        "id": "NW8P3TDs9QEl"
      },
      "execution_count": null,
      "outputs": []
    },
    {
      "cell_type": "code",
      "source": [
        "preds_gb=gb_model.predict(x_test)\n",
        "mean_squared_error(y_test, preds_gb)"
      ],
      "metadata": {
        "id": "rB7M3G7p9QI-"
      },
      "execution_count": null,
      "outputs": []
    },
    {
      "cell_type": "code",
      "source": [
        "r2_score(y_test, preds_gb)"
      ],
      "metadata": {
        "id": "O6h5qzNM9WFG"
      },
      "execution_count": null,
      "outputs": []
    },
    {
      "cell_type": "markdown",
      "source": [
        "GridSearh"
      ],
      "metadata": {
        "id": "D_oMX2sJ9b4H"
      }
    },
    {
      "cell_type": "code",
      "source": [
        "gb_params={\"learning_rate\":[0.001, 0.01, 0.1, 0.2], \"max_depth\":[2,5,10,50,100],\"n_estimators\":[100,200,500,1000],\n",
        "\"subsample\":[1,0.5,0.75]}\n",
        "grid_gb_model=GridSearchCV(gb_model, gb_params, cv=10,n_jobs=-1, verbose=2)"
      ],
      "metadata": {
        "id": "Q2DLKwd19dC1"
      },
      "execution_count": null,
      "outputs": []
    },
    {
      "cell_type": "code",
      "source": [
        "grid_gb_model.fit(x_train, y_train)"
      ],
      "metadata": {
        "id": "KbYjmHnD9iom"
      },
      "execution_count": null,
      "outputs": []
    },
    {
      "cell_type": "code",
      "source": [
        "grid_gb_model.best_params_"
      ],
      "metadata": {
        "id": "GK8ANC9a9nfu"
      },
      "execution_count": null,
      "outputs": []
    },
    {
      "cell_type": "code",
      "source": [
        "best_gb_model=GradientBoostingRegressor(learning_rate=0.01,max_depth=2,n_estimators=200,subsample=0.5).fit(x_train\n",
        "preds_best_gb_model=best_gb_model.predict(x_test)\n",
        "mean_squared_error(y_test, preds_best_gb_model)\n",
        "r2_score(y_test, preds_best_gb_model)"
      ],
      "metadata": {
        "id": "8aADL8CZ9stN"
      },
      "execution_count": null,
      "outputs": []
    },
    {
      "cell_type": "markdown",
      "source": [
        "### XG BOOST"
      ],
      "metadata": {
        "id": "WAdghpIe957T"
      }
    },
    {
      "cell_type": "code",
      "source": [
        "!pip install xgboost\n",
        "import xgboost as xgb\n",
        "from xgboost import XGBRegressor\n",
        "xgb_model=XGBRegressor().fit(x_train,y_train)"
      ],
      "metadata": {
        "id": "C9qUKKRm969G"
      },
      "execution_count": null,
      "outputs": []
    },
    {
      "cell_type": "code",
      "source": [
        "fits_xgb=xgb_model.predict(x_train)\n",
        "mean_squared_error(y_train, fits_xgb)"
      ],
      "metadata": {
        "id": "HG1gGdW9-BiD"
      },
      "execution_count": null,
      "outputs": []
    },
    {
      "cell_type": "code",
      "source": [
        "r2_score(y_train, fits_xgb)"
      ],
      "metadata": {
        "id": "hCtPaxN8-GuA"
      },
      "execution_count": null,
      "outputs": []
    },
    {
      "cell_type": "code",
      "source": [
        "#for test set\n",
        "preds_xgb=gb_model.predict(x_test)\n",
        "mean_squared_error(y_test, preds_xgb)"
      ],
      "metadata": {
        "id": "DvR8TzOu-Ktc"
      },
      "execution_count": null,
      "outputs": []
    },
    {
      "cell_type": "code",
      "source": [
        "r2_score(y_test, preds_xgb)"
      ],
      "metadata": {
        "id": "2aYZH_tA-OqB"
      },
      "execution_count": null,
      "outputs": []
    },
    {
      "cell_type": "markdown",
      "source": [
        "GridSearhc"
      ],
      "metadata": {
        "id": "-E5NTX_v-UuP"
      }
    },
    {
      "cell_type": "code",
      "source": [
        "xgb_params={\"colsample_bytree\":[0.4,0.5],\"n_estimators\":[100,250,500],\"max_depth\":[5,6],\n",
        "\"learning_rate\":[0.01,0.5]}\n",
        "grid_xgb_model=GridSearchCV(xgb_model, xgb_params,cv=10,n_jobs=-1,verbose=2)\n",
        "grid_xgb_model.fit(x_train, y_train)"
      ],
      "metadata": {
        "id": "5xHDyuhP-VlI"
      },
      "execution_count": null,
      "outputs": []
    },
    {
      "cell_type": "code",
      "source": [
        "grid_xgb_model.best_params_"
      ],
      "metadata": {
        "id": "y7yRwJ8A-jzq"
      },
      "execution_count": null,
      "outputs": []
    },
    {
      "cell_type": "code",
      "source": [
        "best_xgb_model=XGBRegressor(colsample_bytree=0.4,learning_rate=0.01,max_depth=5,n_estimators=500).fit(x_train,y_train)"
      ],
      "metadata": {
        "id": "QT0eo3cB-kd8"
      },
      "execution_count": null,
      "outputs": []
    },
    {
      "cell_type": "code",
      "source": [
        "#model with test set\n",
        "preds_best_xgb=best_xgb_model.predict(x_test)\n",
        "mean_squared_error(y_test, preds_best_xgb)"
      ],
      "metadata": {
        "id": "KMeFJQ0k-rRW"
      },
      "execution_count": null,
      "outputs": []
    },
    {
      "cell_type": "code",
      "source": [
        "r2_score(y_test, preds_best_xgb)"
      ],
      "metadata": {
        "id": "fZvFHs1M-w7z"
      },
      "execution_count": null,
      "outputs": []
    },
    {
      "cell_type": "code",
      "source": [
        "#model with train set\n",
        "preds_best_xgb=best_xgb_model.predict(x_train)\n",
        "mean_squared_error(y_train, preds_best_xgb)"
      ],
      "metadata": {
        "id": "WMuN_fvN-y_l"
      },
      "execution_count": null,
      "outputs": []
    },
    {
      "cell_type": "code",
      "source": [
        "r2_score(y_train, preds_best_xgb)"
      ],
      "metadata": {
        "id": "dnuLDybm-56b"
      },
      "execution_count": null,
      "outputs": []
    }
  ]
}